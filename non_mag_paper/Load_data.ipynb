{
 "cells": [
  {
   "cell_type": "markdown",
   "metadata": {},
   "source": [
    "## Load alphase from directory into dictionary sturct to pickle"
   ]
  },
  {
   "cell_type": "code",
   "execution_count": 3,
   "metadata": {},
   "outputs": [],
   "source": [
    "import numpy as np\n",
    "import matplotlib.pyplot as plt\n",
    "import pathlib\n",
    "import pickle"
   ]
  },
  {
   "cell_type": "code",
   "execution_count": 4,
   "metadata": {},
   "outputs": [],
   "source": [
    "def read_alpha(filename):\n",
    "    with open(filename,'r') as myfile:\n",
    "        contents= myfile.read()\n",
    "    alpha_list = contents.split()\n",
    "    alpha_list = np.array(alpha_list).astype(float)\n",
    "    n , nx, ny, nz = alpha_list[0:4].astype(int)\n",
    "    alpha_list= np.delete(alpha_list, [0,1,2,3])\n",
    "    a=np.zeros([nx,ny,nz])\n",
    "    point = -1\n",
    "    for iz in range(0,nz):\n",
    "        for iy in range(0,ny):\n",
    "            for ix in range(0,nx):\n",
    "                point += 1\n",
    "                a[ix,iy,iz]=alpha_list[point]\n",
    "    \n",
    "    if point+1==n:\n",
    "        return alpha_list , a\n",
    "    else:\n",
    "        print (\"Error: lengths dont match\")\n",
    "        print (point, n)\n",
    "        return "
   ]
  },
  {
   "cell_type": "code",
   "execution_count": 5,
   "metadata": {},
   "outputs": [],
   "source": [
    "def load_from_dir(base_path,exclude_list=[\".\",\"_\",\",\"],pass_suffix='.out',pass_format_flag=False,pass_delim='_',pass_split_num=2):\n",
    "    #create dictionary\n",
    "    pbc={}\n",
    "    #itterate over folders in base_path\n",
    "    for folder in base_path.iterdir():\n",
    "        #ignore files\n",
    "        if folder.is_dir():\n",
    "            #ignore hidden and special folders\n",
    "            if folder.name[0] not in exclude_list:\n",
    "                temp_dir={}\n",
    "                temp_dir=load_out_files(folder,suffix=pass_suffix,format_flag=pass_format_flag,delim=pass_delim,split_num=pass_split_num)\n",
    "                parts = folder.stem.split('(') #pass_delim\n",
    "                #del parts[0:3]\n",
    "                key=parts[0]\n",
    "                #key= folder.stem\n",
    "#                 if len(parts)>1:\n",
    "#                     for item in parts[1:]:\n",
    "#                         key += \"_\"\n",
    "#                         key += item\n",
    "                pbc[key]=temp_dir\n",
    "    return pbc \n"
   ]
  },
  {
   "cell_type": "code",
   "execution_count": 6,
   "metadata": {},
   "outputs": [],
   "source": [
    "\n",
    "def load_out_files(path,suffix='.out',format_flag=False,delim='_',split_num=2):\n",
    "    #takes path and return dictionary with keys as filenames and \n",
    "    path_object=pathlib.Path(path)\n",
    "    obj_dict={}\n",
    "    for file in path_object.iterdir():\n",
    "        if file.name[0] not in [\".\",\",\",\"_\"]:\n",
    "            if file.suffix==suffix:\n",
    "                key=file.stem\n",
    "                if format_flag==True:\n",
    "                    parts=key.split(delim,split_num)\n",
    "                    key=parts[-1]\n",
    "                #parts=file.stem.split(\"_\")\n",
    "                #key = parts[-1]\n",
    "                \n",
    "                obj_dict[key]=read_alpha(file)\n",
    "        \n",
    "    return obj_dict"
   ]
  },
  {
   "cell_type": "code",
   "execution_count": 7,
   "metadata": {},
   "outputs": [],
   "source": [
    "def write_alpha_file(alpha_list,filename,seperator='    '):\n",
    "    nx = round(len(alpha_list)**(1.0/3.0))\n",
    "    ny = nx \n",
    "    nz = nx\n",
    "\n",
    "    with open(filename,'w') as myfile:\n",
    "        myfile.writelines('a'+seperator+'b'+seperator+'c'+seperator+'charge\\n')\n",
    "        point = -1\n",
    "        for iz in range(1,nz+1):\n",
    "            for iy in range(1,ny+1):\n",
    "                for ix in range(1,nx+1):\n",
    "                    point += 1\n",
    "                    line = str(ix)+seperator+str(iy)+seperator+str(iz)+\\\n",
    "                        seperator+str(alpha_list[point])+' '+ '\\n'\n",
    "                    myfile.writelines(line)\n",
    "                "
   ]
  },
  {
   "cell_type": "code",
   "execution_count": 8,
   "metadata": {},
   "outputs": [],
   "source": [
    "def folder_alpha_write(data,seed,path,seperator='    '):\n",
    "    for alpha in data[seed].keys():\n",
    "        path_name = pathlib.Path.joinpath(path,str(alpha)+'.charg_frm')\n",
    "        write_alpha_file(data[seed][alpha][0],path_name,seperator)"
   ]
  },
  {
   "cell_type": "code",
   "execution_count": 9,
   "metadata": {},
   "outputs": [],
   "source": [
    "base_path = pathlib.Path.cwd()"
   ]
  },
  {
   "cell_type": "code",
   "execution_count": 10,
   "metadata": {},
   "outputs": [],
   "source": [
    "y = load_from_dir(base_path)"
   ]
  },
  {
   "cell_type": "code",
   "execution_count": 11,
   "metadata": {},
   "outputs": [
    {
     "data": {
      "text/plain": [
       "dict_keys(['Si', 'LiF', 'Na', 'Li', 'C', 'Ag', 'MgO'])"
      ]
     },
     "execution_count": 11,
     "metadata": {},
     "output_type": "execute_result"
    }
   ],
   "source": [
    "y.keys()"
   ]
  },
  {
   "cell_type": "code",
   "execution_count": 17,
   "metadata": {},
   "outputs": [
    {
     "data": {
      "text/plain": [
       "array([[[1.07071285, 1.10894438, 1.23014065, ..., 1.45279353,\n",
       "         1.23014062, 1.1089444 ],\n",
       "        [1.10894438, 1.18898572, 1.36166407, ..., 1.36168713,\n",
       "         1.18897349, 1.10894973],\n",
       "        [1.23014065, 1.36166407, 1.60074036, ..., 1.36168921,\n",
       "         1.23013283, 1.18838822],\n",
       "        ...,\n",
       "        [1.45279353, 1.36168713, 1.36168921, ..., 2.41728738,\n",
       "         1.95930373, 1.6460395 ],\n",
       "        [1.23014062, 1.18897349, 1.23013283, ..., 1.95930373,\n",
       "         1.59520886, 1.35978914],\n",
       "        [1.1089444 , 1.10894973, 1.18838822, ..., 1.6460395 ,\n",
       "         1.35978914, 1.1884004 ]],\n",
       "\n",
       "       [[1.10894438, 1.18898572, 1.36166407, ..., 1.36168713,\n",
       "         1.18897349, 1.10894973],\n",
       "        [1.18898572, 1.31740228, 1.55164187, ..., 1.31740236,\n",
       "         1.18896936, 1.14827619],\n",
       "        [1.36166407, 1.55164187, 1.8633668 , ..., 1.36170197,\n",
       "         1.2726928 , 1.27268951],\n",
       "        ...,\n",
       "        [1.36168713, 1.31740236, 1.36170197, ..., 2.12934699,\n",
       "         1.74938872, 1.50040887],\n",
       "        [1.18897349, 1.18896936, 1.2726928 , ..., 1.74938872,\n",
       "         1.45231777, 1.27268947],\n",
       "        [1.10894973, 1.14827619, 1.27268951, ..., 1.50040887,\n",
       "         1.27268947, 1.1482762 ]],\n",
       "\n",
       "       [[1.23014065, 1.36166407, 1.60074036, ..., 1.36168921,\n",
       "         1.23013283, 1.18838822],\n",
       "        [1.36166407, 1.55164187, 1.8633668 , ..., 1.36170197,\n",
       "         1.2726928 , 1.27268951],\n",
       "        [1.60074036, 1.8633668 , 2.2643276 , ..., 1.45363807,\n",
       "         1.40648232, 1.45362461],\n",
       "        ...,\n",
       "        [1.36168921, 1.36170197, 1.45363807, ..., 1.9652787 ,\n",
       "         1.64863618, 1.45360506],\n",
       "        [1.23013283, 1.2726928 , 1.40648232, ..., 1.64863618,\n",
       "         1.40648228, 1.27269282],\n",
       "        [1.18838822, 1.27268951, 1.45362461, ..., 1.45360506,\n",
       "         1.27269282, 1.1883841 ]],\n",
       "\n",
       "       ...,\n",
       "\n",
       "       [[1.45279353, 1.36168713, 1.36168921, ..., 2.41728738,\n",
       "         1.95930373, 1.6460395 ],\n",
       "        [1.36168713, 1.31740236, 1.36170197, ..., 2.12934699,\n",
       "         1.74938872, 1.50040887],\n",
       "        [1.36168921, 1.36170197, 1.45363807, ..., 1.9652787 ,\n",
       "         1.64863618, 1.45360506],\n",
       "        ...,\n",
       "        [2.41728738, 2.12934699, 1.9652787 , ..., 4.39238899,\n",
       "         3.57346148, 2.86577245],\n",
       "        [1.95930373, 1.74938872, 1.64863618, ..., 3.57346148,\n",
       "         2.79316428, 2.29403132],\n",
       "        [1.6460395 , 1.50040887, 1.45360506, ..., 2.86577245,\n",
       "         2.29403132, 1.904159  ]],\n",
       "\n",
       "       [[1.23014062, 1.18897349, 1.23013283, ..., 1.95930373,\n",
       "         1.59520886, 1.35978914],\n",
       "        [1.18897349, 1.18896936, 1.2726928 , ..., 1.74938872,\n",
       "         1.45231777, 1.27268947],\n",
       "        [1.23013283, 1.2726928 , 1.40648232, ..., 1.64863618,\n",
       "         1.40648228, 1.27269282],\n",
       "        ...,\n",
       "        [1.95930373, 1.74938872, 1.64863618, ..., 3.57346148,\n",
       "         2.79316428, 2.29403132],\n",
       "        [1.59520886, 1.45231777, 1.40648228, ..., 2.79316428,\n",
       "         2.23375565, 1.84934461],\n",
       "        [1.35978914, 1.27268947, 1.27269282, ..., 2.29403132,\n",
       "         1.84934461, 1.54555867]],\n",
       "\n",
       "       [[1.1089444 , 1.10894973, 1.18838822, ..., 1.6460395 ,\n",
       "         1.35978914, 1.1884004 ],\n",
       "        [1.10894973, 1.14827619, 1.27268951, ..., 1.50040887,\n",
       "         1.27268947, 1.1482762 ],\n",
       "        [1.18838822, 1.27268951, 1.45362461, ..., 1.45360506,\n",
       "         1.27269282, 1.1883841 ],\n",
       "        ...,\n",
       "        [1.6460395 , 1.50040887, 1.45360506, ..., 2.86577245,\n",
       "         2.29403132, 1.904159  ],\n",
       "        [1.35978914, 1.27268947, 1.27269282, ..., 2.29403132,\n",
       "         1.84934461, 1.54555867],\n",
       "        [1.1884004 , 1.1482762 , 1.1883841 , ..., 1.904159  ,\n",
       "         1.54555867, 1.31494564]]])"
      ]
     },
     "execution_count": 17,
     "metadata": {},
     "output_type": "execute_result"
    }
   ],
   "source": [
    "y['Si']['alpha_1'][1]"
   ]
  },
  {
   "cell_type": "code",
   "execution_count": 35,
   "metadata": {},
   "outputs": [],
   "source": [
    "# pickling data into object file\n",
    "with open('data.obj','wb') as myfile:\n",
    "     pickle.dump(y,myfile)"
   ]
  },
  {
   "cell_type": "code",
   "execution_count": 12,
   "metadata": {},
   "outputs": [],
   "source": [
    "# example of how to load data \n",
    "with open('data.obj','rb') as myfile:\n",
    "     z= pickle.load(myfile)"
   ]
  },
  {
   "cell_type": "code",
   "execution_count": null,
   "metadata": {},
   "outputs": [],
   "source": []
  },
  {
   "cell_type": "code",
   "execution_count": 58,
   "metadata": {},
   "outputs": [],
   "source": [
    "# writing alpha values"
   ]
  },
  {
   "cell_type": "code",
   "execution_count": 13,
   "metadata": {},
   "outputs": [],
   "source": [
    "temp_path = base_path.joinpath('Li(bcc-W)')\n",
    "folder_alpha_write(y,'Li',temp_path)"
   ]
  },
  {
   "cell_type": "code",
   "execution_count": 14,
   "metadata": {},
   "outputs": [],
   "source": [
    "temp_path = base_path.joinpath('Na(bcc-W)')\n",
    "folder_alpha_write(y,'Na',temp_path)"
   ]
  },
  {
   "cell_type": "code",
   "execution_count": 15,
   "metadata": {},
   "outputs": [],
   "source": [
    "temp_path = base_path.joinpath('LiF(NaCl')\n",
    "folder_alpha_write(y,'LiF',temp_path)"
   ]
  },
  {
   "cell_type": "code",
   "execution_count": 16,
   "metadata": {},
   "outputs": [],
   "source": [
    "temp_path = base_path.joinpath('MgO(NaCl)')\n",
    "folder_alpha_write(y,'MgO',temp_path)"
   ]
  },
  {
   "cell_type": "code",
   "execution_count": 26,
   "metadata": {},
   "outputs": [],
   "source": [
    "temp_path = base_path.joinpath('Si(diamond)')\n",
    "folder_alpha_write(y,'Si',temp_path)"
   ]
  },
  {
   "cell_type": "code",
   "execution_count": 27,
   "metadata": {},
   "outputs": [],
   "source": [
    "temp_path = base_path.joinpath('C(diamond)')\n",
    "folder_alpha_write(y,'C',temp_path)"
   ]
  },
  {
   "cell_type": "code",
   "execution_count": 28,
   "metadata": {},
   "outputs": [],
   "source": [
    "temp_path = base_path.joinpath('Ag(fcc)')\n",
    "folder_alpha_write(y,'Ag',temp_path)"
   ]
  },
  {
   "cell_type": "code",
   "execution_count": null,
   "metadata": {},
   "outputs": [],
   "source": []
  }
 ],
 "metadata": {
  "kernelspec": {
   "display_name": "Python 3",
   "language": "python",
   "name": "python3"
  },
  "language_info": {
   "codemirror_mode": {
    "name": "ipython",
    "version": 3
   },
   "file_extension": ".py",
   "mimetype": "text/x-python",
   "name": "python",
   "nbconvert_exporter": "python",
   "pygments_lexer": "ipython3",
   "version": "3.7.3"
  }
 },
 "nbformat": 4,
 "nbformat_minor": 2
}

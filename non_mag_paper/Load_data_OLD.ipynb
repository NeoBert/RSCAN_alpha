{
 "cells": [
  {
   "cell_type": "markdown",
   "metadata": {},
   "source": [
    "## Load alphase from directory into dictionary sturct to pickle"
   ]
  },
  {
   "cell_type": "code",
   "execution_count": 3,
   "metadata": {},
   "outputs": [],
   "source": [
    "import numpy as np\n",
    "import matplotlib.pyplot as plt\n",
    "import pathlib\n",
    "import pickle"
   ]
  },
  {
   "cell_type": "code",
   "execution_count": 28,
   "metadata": {},
   "outputs": [],
   "source": [
    "def read_alpha(filename):\n",
    "    with open(filename,'r') as myfile:\n",
    "        contents= myfile.read()\n",
    "    alpha_list = contents.split()\n",
    "    alpha_list = np.array(alpha_list).astype(float)\n",
    "    n , nx, ny, nz = alpha_list[0:4].astype(int)\n",
    "    alpha_list= np.delete(alpha_list, [0,1,2,3])\n",
    "    a=np.zeros([nx,ny,nz])\n",
    "    point = -1\n",
    "    for iz in range(0,nz):\n",
    "        for iy in range(0,ny):\n",
    "            for ix in range(0,nx):\n",
    "                point += 1\n",
    "                a[ix,iy,iz]=alpha_list[point]\n",
    "    \n",
    "    if point+1==n:\n",
    "        return alpha_list , a\n",
    "    else:\n",
    "        print (\"Error: lengths dont match\")\n",
    "        print (point, n)\n",
    "        return "
   ]
  },
  {
   "cell_type": "code",
   "execution_count": 23,
   "metadata": {},
   "outputs": [],
   "source": [
    "def load_from_dir(base_path,exclude_list=[\".\",\"_\",\",\"],pass_suffix='.out',pass_format_flag=False,pass_delim='_',pass_split_num=2):\n",
    "    #create dictionary\n",
    "    pbc={}\n",
    "    #itterate over folders in base_path\n",
    "    for folder in base_path.iterdir():\n",
    "        #ignore files\n",
    "        if folder.is_dir():\n",
    "            #ignore hidden and special folders\n",
    "            if folder.name[0] not in exclude_list:\n",
    "                temp_dir={}\n",
    "                temp_dir=load_out_files(folder,suffix=pass_suffix,format_flag=pass_format_flag,delim=pass_delim,split_num=pass_split_num)\n",
    "                parts = folder.stem.split('(') #pass_delim\n",
    "                #del parts[0:3]\n",
    "                key=parts[0]\n",
    "                #key= folder.stem\n",
    "#                 if len(parts)>1:\n",
    "#                     for item in parts[1:]:\n",
    "#                         key += \"_\"\n",
    "#                         key += item\n",
    "                pbc[key]=temp_dir\n",
    "    return pbc \n"
   ]
  },
  {
   "cell_type": "code",
   "execution_count": 24,
   "metadata": {},
   "outputs": [],
   "source": [
    "\n",
    "def load_out_files(path,suffix='.out',format_flag=False,delim='_',split_num=2):\n",
    "    #takes path and return dictionary with keys as filenames and \n",
    "    path_object=pathlib.Path(path)\n",
    "    obj_dict={}\n",
    "    for file in path_object.iterdir():\n",
    "        if file.name[0] not in [\".\",\",\",\"_\"]:\n",
    "            if file.suffix==suffix:\n",
    "                key=file.stem\n",
    "                if format_flag==True:\n",
    "                    parts=key.split(delim,split_num)\n",
    "                    key=parts[-1]\n",
    "                #parts=file.stem.split(\"_\")\n",
    "                #key = parts[-1]\n",
    "                \n",
    "                obj_dict[key]=read_alpha(file)\n",
    "        \n",
    "    return obj_dict"
   ]
  },
  {
   "cell_type": "code",
   "execution_count": 60,
   "metadata": {},
   "outputs": [],
   "source": [
    "base_path = pathlib.Path.cwd()"
   ]
  },
  {
   "cell_type": "code",
   "execution_count": 61,
   "metadata": {},
   "outputs": [
    {
     "data": {
      "text/plain": [
       "PosixPath('/Users/lennartgundelach/OneDrive - Nexus365/Summer project/data_files/non_mag_paper')"
      ]
     },
     "execution_count": 61,
     "metadata": {},
     "output_type": "execute_result"
    }
   ],
   "source": [
    "base_path"
   ]
  },
  {
   "cell_type": "code",
   "execution_count": 62,
   "metadata": {},
   "outputs": [
    {
     "name": "stdout",
     "output_type": "stream",
     "text": [
      "45 45 45 /Users/lennartgundelach/OneDrive - Nexus365/Summer project/data_files/non_mag_paper/LiF(NaCl/alpha_2.out\n",
      "45 45 45 /Users/lennartgundelach/OneDrive - Nexus365/Summer project/data_files/non_mag_paper/LiF(NaCl/alpha_1.out\n",
      "72 72 72 /Users/lennartgundelach/OneDrive - Nexus365/Summer project/data_files/non_mag_paper/Na(bcc-W)/alpha_2.out\n",
      "72 72 72 /Users/lennartgundelach/OneDrive - Nexus365/Summer project/data_files/non_mag_paper/Na(bcc-W)/alpha_1.out\n",
      "48 48 48 /Users/lennartgundelach/OneDrive - Nexus365/Summer project/data_files/non_mag_paper/Li(bcc-W)/alpha_2.out\n",
      "48 48 48 /Users/lennartgundelach/OneDrive - Nexus365/Summer project/data_files/non_mag_paper/Li(bcc-W)/alpha_1.out\n",
      "54 54 54 /Users/lennartgundelach/OneDrive - Nexus365/Summer project/data_files/non_mag_paper/MgO(NaCl)/alpha_2.out\n",
      "54 54 54 /Users/lennartgundelach/OneDrive - Nexus365/Summer project/data_files/non_mag_paper/MgO(NaCl)/alpha_1.out\n"
     ]
    }
   ],
   "source": [
    "y = load_from_dir(base_path)"
   ]
  },
  {
   "cell_type": "code",
   "execution_count": 21,
   "metadata": {},
   "outputs": [],
   "source": [
    "with open('data.obj','wb') as myfile:\n",
    "     pickle.dump(y,myfile)"
   ]
  },
  {
   "cell_type": "code",
   "execution_count": 11,
   "metadata": {},
   "outputs": [
    {
     "data": {
      "text/plain": [
       "dict_keys(['LiF', 'Na', 'Li', 'MgO'])"
      ]
     },
     "execution_count": 11,
     "metadata": {},
     "output_type": "execute_result"
    }
   ],
   "source": [
    "y.keys()"
   ]
  },
  {
   "cell_type": "code",
   "execution_count": 12,
   "metadata": {},
   "outputs": [],
   "source": [
    "with open('data.obj','rb') as myfile:\n",
    "     z= pickle.load(myfile)"
   ]
  },
  {
   "cell_type": "code",
   "execution_count": null,
   "metadata": {},
   "outputs": [],
   "source": []
  },
  {
   "cell_type": "code",
   "execution_count": 16,
   "metadata": {},
   "outputs": [
    {
     "data": {
      "text/plain": [
       "54"
      ]
     },
     "execution_count": 16,
     "metadata": {},
     "output_type": "execute_result"
    }
   ],
   "source": [
    "len(y['MgO']['alpha_1'][1][:,0,0])"
   ]
  },
  {
   "cell_type": "code",
   "execution_count": 58,
   "metadata": {},
   "outputs": [],
   "source": [
    "def read_alpha(filename):\n",
    "    with open(filename,'r') as myfile:\n",
    "        contents= myfile.read()\n",
    "    alpha_list = contents.split()\n",
    "    alpha_list = np.array(alpha_list).astype(float)\n",
    "    n , nx, ny, nz = alpha_list[0:4].astype(int)\n",
    "    print (nx,ny,nz,filename)\n",
    "    alpha_list= np.delete(alpha_list, [0,1,2,3])\n",
    "    a=np.zeros([nx,ny,nz])\n",
    "    point = -1\n",
    "    for iz in range(0,nz):\n",
    "        for iy in range(0,ny):\n",
    "            for ix in range(0,nx):\n",
    "                point += 1\n",
    "                a[ix,iy,iz]=alpha_list[point]\n",
    "    \n",
    "    if point+1==n:\n",
    "        return alpha_list , a\n",
    "    else:\n",
    "        print (\"Error: lengths dont match\")\n",
    "        print (point, n)\n",
    "        return "
   ]
  },
  {
   "cell_type": "code",
   "execution_count": 59,
   "metadata": {},
   "outputs": [],
   "source": [
    "alpha_list = y['Na']['alpha_1'][0]\n",
    "nx = len(y['Na']['alpha_1'][1][:,0,0])\n",
    "ny = nx \n",
    "nz = nx\n",
    "                  \n",
    "with open('alpha_density.charg_frm','w') as myfile:\n",
    "    myfile.writelines('a    b    c    charge\\n')\n",
    "    point = -1\n",
    "    for iz in range(1,nz+1):\n",
    "        for iy in range(1,ny+1):\n",
    "            for ix in range(1,nx+1):\n",
    "                point += 1\n",
    "                line = str(ix)+'    '+str(iy)+'    '+str(iz)+'    '+str(alpha_list[point])+' '+ '\\n'\n",
    "                myfile.writelines(line)\n",
    "                \n",
    "    "
   ]
  },
  {
   "cell_type": "code",
   "execution_count": 65,
   "metadata": {},
   "outputs": [
    {
     "data": {
      "text/plain": [
       "72"
      ]
     },
     "execution_count": 65,
     "metadata": {},
     "output_type": "execute_result"
    }
   ],
   "source": [
    "round(len(alpha_list)**(1.0/3.0))"
   ]
  },
  {
   "cell_type": "code",
   "execution_count": 50,
   "metadata": {},
   "outputs": [
    {
     "data": {
      "text/plain": [
       "'1, 2, 3'"
      ]
     },
     "execution_count": 50,
     "metadata": {},
     "output_type": "execute_result"
    }
   ],
   "source": [
    "x= [1,2,3]\n",
    "str(x).strip('[]').strip(',')"
   ]
  },
  {
   "cell_type": "code",
   "execution_count": 67,
   "metadata": {},
   "outputs": [],
   "source": [
    "def write_alpha_file(alpha_list,filename,seperator='    '):\n",
    "    nx = round(len(alpha_list)**(1.0/3.0))\n",
    "    ny = nx \n",
    "    nz = nx\n",
    "\n",
    "    with open(filename,'w') as myfile:\n",
    "        myfile.writelines('a'+seperator+'b'+seperator+'c'+seperator+'charge\\n')\n",
    "        point = -1\n",
    "        for iz in range(1,nz+1):\n",
    "            for iy in range(1,ny+1):\n",
    "                for ix in range(1,nx+1):\n",
    "                    point += 1\n",
    "                    line = str(ix)+seperator+str(iy)+seperator+str(iz)+\\\n",
    "                        seperator+str(alpha_list[point])+' '+ '\\n'\n",
    "                    myfile.writelines(line)\n",
    "                "
   ]
  },
  {
   "cell_type": "code",
   "execution_count": 68,
   "metadata": {},
   "outputs": [],
   "source": [
    "write_alpha_file(y['Na']['alpha_1'][0],'alpha_test.txt',seperator=',')"
   ]
  },
  {
   "cell_type": "code",
   "execution_count": null,
   "metadata": {},
   "outputs": [],
   "source": []
  }
 ],
 "metadata": {
  "kernelspec": {
   "display_name": "Python 3",
   "language": "python",
   "name": "python3"
  },
  "language_info": {
   "codemirror_mode": {
    "name": "ipython",
    "version": 3
   },
   "file_extension": ".py",
   "mimetype": "text/x-python",
   "name": "python",
   "nbconvert_exporter": "python",
   "pygments_lexer": "ipython3",
   "version": "3.7.3"
  }
 },
 "nbformat": 4,
 "nbformat_minor": 2
}

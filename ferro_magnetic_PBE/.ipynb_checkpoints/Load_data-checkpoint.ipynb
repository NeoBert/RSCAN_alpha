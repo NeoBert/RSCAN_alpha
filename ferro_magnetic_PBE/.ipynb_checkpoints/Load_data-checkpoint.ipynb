{
 "cells": [
  {
   "cell_type": "markdown",
   "metadata": {},
   "source": [
    "## Load alphase from directory into dictionary sturct to pickle"
   ]
  },
  {
   "cell_type": "code",
   "execution_count": 1,
   "metadata": {},
   "outputs": [],
   "source": [
    "import numpy as np\n",
    "import matplotlib.pyplot as plt\n",
    "import pathlib\n",
    "import pickle"
   ]
  },
  {
   "cell_type": "code",
   "execution_count": 2,
   "metadata": {},
   "outputs": [],
   "source": [
    "def read_alpha(filename):\n",
    "    with open(filename,'r') as myfile:\n",
    "        contents= myfile.read()\n",
    "    alpha_list = contents.split()\n",
    "    alpha_list = np.array(alpha_list).astype(float)\n",
    "    n , nx, ny, nz = alpha_list[0:4].astype(int)\n",
    "    alpha_list= np.delete(alpha_list, [0,1,2,3])\n",
    "    a=np.zeros([nx,ny,nz])\n",
    "    point = -1\n",
    "    for iz in range(0,nz):\n",
    "        for iy in range(0,ny):\n",
    "            for ix in range(0,nx):\n",
    "                point += 1\n",
    "                a[ix,iy,iz]=alpha_list[point]\n",
    "    \n",
    "    if point+1==n:\n",
    "        return alpha_list , a\n",
    "    else:\n",
    "        print (\"Error: lengths dont match\")\n",
    "        print (point, n)\n",
    "        return "
   ]
  },
  {
   "cell_type": "code",
   "execution_count": 3,
   "metadata": {},
   "outputs": [],
   "source": [
    "def load_from_dir(base_path,exclude_list=[\".\",\"_\",\",\"],pass_suffix='.out',pass_format_flag=False,pass_delim='_',pass_split_num=2):\n",
    "    #create dictionary\n",
    "    pbc={}\n",
    "    #itterate over folders in base_path\n",
    "    for folder in base_path.iterdir():\n",
    "        #ignore files\n",
    "        if folder.is_dir():\n",
    "            #ignore hidden and special folders\n",
    "            if folder.name[0] not in exclude_list:\n",
    "                temp_dir={}\n",
    "                temp_dir=load_out_files(folder,suffix=pass_suffix,format_flag=pass_format_flag,delim=pass_delim,split_num=pass_split_num)\n",
    "                parts = folder.stem.split('(') #pass_delim\n",
    "                #del parts[0:3]\n",
    "                key=parts[0]\n",
    "                #key= folder.stem\n",
    "#                 if len(parts)>1:\n",
    "#                     for item in parts[1:]:\n",
    "#                         key += \"_\"\n",
    "#                         key += item\n",
    "                pbc[key]=temp_dir\n",
    "    return pbc \n"
   ]
  },
  {
   "cell_type": "code",
   "execution_count": 4,
   "metadata": {},
   "outputs": [],
   "source": [
    "\n",
    "def load_out_files(path,suffix='.out',format_flag=False,delim='_',split_num=2):\n",
    "    #takes path and return dictionary with keys as filenames and \n",
    "    path_object=pathlib.Path(path)\n",
    "    obj_dict={}\n",
    "    for file in path_object.iterdir():\n",
    "        if file.name[0] not in [\".\",\",\",\"_\"]:\n",
    "            if file.suffix==suffix:\n",
    "                key=file.stem\n",
    "                if format_flag==True:\n",
    "                    parts=key.split(delim,split_num)\n",
    "                    key=parts[-1]\n",
    "                #parts=file.stem.split(\"_\")\n",
    "                #key = parts[-1]\n",
    "                \n",
    "                obj_dict[key]=read_alpha(file)\n",
    "        \n",
    "    return obj_dict"
   ]
  },
  {
   "cell_type": "code",
   "execution_count": 5,
   "metadata": {},
   "outputs": [],
   "source": [
    "def write_alpha_file(alpha_list,filename,seperator='    '):\n",
    "    nx = round(len(alpha_list)**(1.0/3.0))\n",
    "    ny = nx \n",
    "    nz = nx\n",
    "\n",
    "    with open(filename,'w') as myfile:\n",
    "        myfile.writelines('a'+seperator+'b'+seperator+'c'+seperator+'charge\\n')\n",
    "        point = -1\n",
    "        for iz in range(1,nz+1):\n",
    "            for iy in range(1,ny+1):\n",
    "                for ix in range(1,nx+1):\n",
    "                    point += 1\n",
    "                    line = str(ix)+seperator+str(iy)+seperator+str(iz)+\\\n",
    "                        seperator+str(alpha_list[point])+' '+ '\\n'\n",
    "                    myfile.writelines(line)\n",
    "                "
   ]
  },
  {
   "cell_type": "code",
   "execution_count": 6,
   "metadata": {},
   "outputs": [],
   "source": [
    "def folder_alpha_write(data,seed,path,seperator='    '):\n",
    "    for alpha in data[seed].keys():\n",
    "        path_name = pathlib.Path.joinpath(path,str(alpha)+'.charg_frm')\n",
    "        write_alpha_file(data[seed][alpha][0],path_name,seperator)"
   ]
  },
  {
   "cell_type": "code",
   "execution_count": 9,
   "metadata": {},
   "outputs": [],
   "source": [
    "base_path = pathlib.Path.cwd()"
   ]
  },
  {
   "cell_type": "code",
   "execution_count": 10,
   "metadata": {},
   "outputs": [],
   "source": [
    "y = load_from_dir(base_path)"
   ]
  },
  {
   "cell_type": "code",
   "execution_count": 11,
   "metadata": {},
   "outputs": [],
   "source": [
    "# pickling data into object file\n",
    "with open('data.obj','wb') as myfile:\n",
    "     pickle.dump(y,myfile)"
   ]
  },
  {
   "cell_type": "code",
   "execution_count": 12,
   "metadata": {},
   "outputs": [],
   "source": [
    "# example of how to load data \n",
    "with open('data.obj','rb') as myfile:\n",
    "     z= pickle.load(myfile)"
   ]
  },
  {
   "cell_type": "code",
   "execution_count": 13,
   "metadata": {},
   "outputs": [
    {
     "data": {
      "text/plain": [
       "dict_keys(['Co', 'Cu', 'NiO', 'Cobalt', 'Fe', 'Ni'])"
      ]
     },
     "execution_count": 13,
     "metadata": {},
     "output_type": "execute_result"
    }
   ],
   "source": [
    "y.keys()"
   ]
  },
  {
   "cell_type": "code",
   "execution_count": 14,
   "metadata": {},
   "outputs": [],
   "source": [
    "# writing alpha values"
   ]
  },
  {
   "cell_type": "code",
   "execution_count": 15,
   "metadata": {},
   "outputs": [],
   "source": [
    "temp_path = base_path.joinpath('Fe(bcc-W)')\n",
    "folder_alpha_write(y,'Fe',temp_path)"
   ]
  },
  {
   "cell_type": "code",
   "execution_count": 16,
   "metadata": {},
   "outputs": [],
   "source": [
    "temp_path = base_path.joinpath('Ni(fcc(ccp)-Cu)')\n",
    "folder_alpha_write(y,'Ni',temp_path)"
   ]
  },
  {
   "cell_type": "code",
   "execution_count": 17,
   "metadata": {},
   "outputs": [],
   "source": [
    "temp_path = base_path.joinpath('Co(fcc(ccp)-Cu)')\n",
    "folder_alpha_write(y,'Co',temp_path)"
   ]
  },
  {
   "cell_type": "code",
   "execution_count": 18,
   "metadata": {},
   "outputs": [],
   "source": [
    "temp_path = base_path.joinpath('NiO')\n",
    "folder_alpha_write(y,'NiO',temp_path)"
   ]
  },
  {
   "cell_type": "code",
   "execution_count": 19,
   "metadata": {},
   "outputs": [],
   "source": [
    "temp_path = base_path.joinpath('Cu(fcc)')\n",
    "folder_alpha_write(y,'Cu',temp_path)"
   ]
  },
  {
   "cell_type": "code",
   "execution_count": null,
   "metadata": {},
   "outputs": [],
   "source": []
  }
 ],
 "metadata": {
  "kernelspec": {
   "display_name": "Python 3",
   "language": "python",
   "name": "python3"
  },
  "language_info": {
   "codemirror_mode": {
    "name": "ipython",
    "version": 3
   },
   "file_extension": ".py",
   "mimetype": "text/x-python",
   "name": "python",
   "nbconvert_exporter": "python",
   "pygments_lexer": "ipython3",
   "version": "3.7.3"
  }
 },
 "nbformat": 4,
 "nbformat_minor": 2
}
